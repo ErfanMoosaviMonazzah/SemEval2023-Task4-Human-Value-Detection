{
 "cells": [
  {
   "cell_type": "code",
   "execution_count": 50,
   "metadata": {},
   "outputs": [],
   "source": [
    "import json"
   ]
  },
  {
   "cell_type": "code",
   "execution_count": 51,
   "metadata": {},
   "outputs": [],
   "source": [
    "with open('pg.csv', 'r') as file:\n",
    "    data = json.load(file)"
   ]
  },
  {
   "cell_type": "code",
   "execution_count": 52,
   "metadata": {},
   "outputs": [],
   "source": [
    "keys = []\n",
    "vals = []\n",
    "for key in data.keys():\n",
    "    if 'F1' not in key:\n",
    "        continue\n",
    "    keys.append(key)\n",
    "    \n",
    "    vals.append(f'{round(float(data[key]), 2)}'[1:])"
   ]
  },
  {
   "cell_type": "code",
   "execution_count": 53,
   "metadata": {},
   "outputs": [
    {
     "data": {
      "text/plain": [
       "['F1',\n",
       " 'F1 Self-direction: thought',\n",
       " 'F1 Self-direction: action',\n",
       " 'F1 Stimulation',\n",
       " 'F1 Hedonism',\n",
       " 'F1 Achievement',\n",
       " 'F1 Power: dominance',\n",
       " 'F1 Power: resources',\n",
       " 'F1 Face',\n",
       " 'F1 Security: personal',\n",
       " 'F1 Security: societal',\n",
       " 'F1 Tradition',\n",
       " 'F1 Conformity: rules',\n",
       " 'F1 Conformity: interpersonal',\n",
       " 'F1 Humility',\n",
       " 'F1 Benevolence: caring',\n",
       " 'F1 Benevolence: dependability',\n",
       " 'F1 Universalism: concern',\n",
       " 'F1 Universalism: nature',\n",
       " 'F1 Universalism: tolerance',\n",
       " 'F1 Universalism: objectivity']"
      ]
     },
     "execution_count": 53,
     "metadata": {},
     "output_type": "execute_result"
    }
   ],
   "source": [
    "keys"
   ]
  },
  {
   "cell_type": "code",
   "execution_count": 54,
   "metadata": {},
   "outputs": [
    {
     "name": "stdout",
     "output_type": "stream",
     "text": [
      ".27 & .11 & .21 & .0 & .33 & .46 & .0 & .0 & .26 & .35 & .29 & .42 & .17 & .14 & .26 & .32 & .29 & .35 & .5 & .0 & .37\n"
     ]
    }
   ],
   "source": [
    "print(str.join(' & ', vals))"
   ]
  },
  {
   "cell_type": "code",
   "execution_count": null,
   "metadata": {},
   "outputs": [],
   "source": []
  }
 ],
 "metadata": {
  "kernelspec": {
   "display_name": "Python 3",
   "language": "python",
   "name": "python3"
  },
  "language_info": {
   "codemirror_mode": {
    "name": "ipython",
    "version": 3
   },
   "file_extension": ".py",
   "mimetype": "text/x-python",
   "name": "python",
   "nbconvert_exporter": "python",
   "pygments_lexer": "ipython3",
   "version": "3.10.6"
  },
  "orig_nbformat": 4,
  "vscode": {
   "interpreter": {
    "hash": "916dbcbb3f70747c44a77c7bcd40155683ae19c65e1c03b4aa3499c5328201f1"
   }
  }
 },
 "nbformat": 4,
 "nbformat_minor": 2
}
