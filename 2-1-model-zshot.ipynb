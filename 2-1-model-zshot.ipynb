{
  "cells": [
    {
      "cell_type": "code",
      "source": [
        "!pip install transformers"
      ],
      "metadata": {
        "colab": {
          "base_uri": "https://localhost:8080/"
        },
        "id": "7zDNglOOBs2O",
        "outputId": "023a32f1-855a-47b5-8a76-223b71dd1f8b"
      },
      "execution_count": 23,
      "outputs": [
        {
          "output_type": "stream",
          "name": "stdout",
          "text": [
            "Looking in indexes: https://pypi.org/simple, https://us-python.pkg.dev/colab-wheels/public/simple/\n",
            "Requirement already satisfied: transformers in /usr/local/lib/python3.8/dist-packages (4.26.1)\n",
            "Requirement already satisfied: pyyaml>=5.1 in /usr/local/lib/python3.8/dist-packages (from transformers) (6.0)\n",
            "Requirement already satisfied: tokenizers!=0.11.3,<0.14,>=0.11.1 in /usr/local/lib/python3.8/dist-packages (from transformers) (0.13.2)\n",
            "Requirement already satisfied: numpy>=1.17 in /usr/local/lib/python3.8/dist-packages (from transformers) (1.21.6)\n",
            "Requirement already satisfied: requests in /usr/local/lib/python3.8/dist-packages (from transformers) (2.25.1)\n",
            "Requirement already satisfied: regex!=2019.12.17 in /usr/local/lib/python3.8/dist-packages (from transformers) (2022.6.2)\n",
            "Requirement already satisfied: huggingface-hub<1.0,>=0.11.0 in /usr/local/lib/python3.8/dist-packages (from transformers) (0.12.0)\n",
            "Requirement already satisfied: tqdm>=4.27 in /usr/local/lib/python3.8/dist-packages (from transformers) (4.64.1)\n",
            "Requirement already satisfied: packaging>=20.0 in /usr/local/lib/python3.8/dist-packages (from transformers) (23.0)\n",
            "Requirement already satisfied: filelock in /usr/local/lib/python3.8/dist-packages (from transformers) (3.9.0)\n",
            "Requirement already satisfied: typing-extensions>=3.7.4.3 in /usr/local/lib/python3.8/dist-packages (from huggingface-hub<1.0,>=0.11.0->transformers) (4.4.0)\n",
            "Requirement already satisfied: chardet<5,>=3.0.2 in /usr/local/lib/python3.8/dist-packages (from requests->transformers) (4.0.0)\n",
            "Requirement already satisfied: urllib3<1.27,>=1.21.1 in /usr/local/lib/python3.8/dist-packages (from requests->transformers) (1.24.3)\n",
            "Requirement already satisfied: idna<3,>=2.5 in /usr/local/lib/python3.8/dist-packages (from requests->transformers) (2.10)\n",
            "Requirement already satisfied: certifi>=2017.4.17 in /usr/local/lib/python3.8/dist-packages (from requests->transformers) (2022.12.7)\n"
          ]
        }
      ]
    },
    {
      "cell_type": "code",
      "execution_count": 24,
      "metadata": {
        "id": "DBNjTH3SBeje"
      },
      "outputs": [],
      "source": [
        "import torch\n",
        "from transformers import pipeline, AutoTokenizer, AutoModel\n",
        "import pandas as pd\n",
        "import json\n",
        "from tqdm import tqdm"
      ]
    },
    {
      "cell_type": "markdown",
      "metadata": {
        "id": "M94XH_jpBejf"
      },
      "source": [
        "Helper functions"
      ]
    },
    {
      "cell_type": "code",
      "execution_count": 25,
      "metadata": {
        "id": "32j6aLdUBejg"
      },
      "outputs": [],
      "source": [
        "def batched(lst, batch_size):\n",
        "    \"\"\"\n",
        "    Convert a list of items to a list of batched items with the specified batch size.\n",
        "    \"\"\"\n",
        "    return [lst[i:i+batch_size] for i in range(0, len(lst), batch_size)]\n"
      ]
    },
    {
      "cell_type": "markdown",
      "metadata": {
        "id": "tyS5MGChBejg"
      },
      "source": [
        "Loading zshot model"
      ]
    },
    {
      "cell_type": "code",
      "execution_count": 26,
      "metadata": {
        "colab": {
          "base_uri": "https://localhost:8080/"
        },
        "id": "LJkWPB9FBejh",
        "outputId": "ab8efe65-b80b-4636-c4f8-f5404a5bc8b4"
      },
      "outputs": [
        {
          "output_type": "stream",
          "name": "stdout",
          "text": [
            "cuda:0\n"
          ]
        }
      ],
      "source": [
        "model = 'facebook/bart-large-mnli'\n",
        "task = 'zero-shot-classification'\n",
        "clf = pipeline(task, model, device=0)\n",
        "print(clf.device)"
      ]
    },
    {
      "cell_type": "markdown",
      "metadata": {
        "id": "0zmkL4rcBeji"
      },
      "source": [
        "Checking zshot model"
      ]
    },
    {
      "cell_type": "code",
      "execution_count": 27,
      "metadata": {
        "colab": {
          "base_uri": "https://localhost:8080/"
        },
        "id": "VsuuGFv4Beji",
        "outputId": "70eaa7d6-c947-4b92-e74b-edc8aefe5829"
      },
      "outputs": [
        {
          "output_type": "execute_result",
          "data": {
            "text/plain": [
              "{'sequence': 'This is a course about Python Programming',\n",
              " 'labels': ['Computer Education',\n",
              "  'Python Snake',\n",
              "  'Computer Networks',\n",
              "  'Physics Education'],\n",
              " 'scores': [0.8667939901351929,\n",
              "  0.05108256638050079,\n",
              "  0.00023025953851174563,\n",
              "  7.492794247809798e-05]}"
            ]
          },
          "metadata": {},
          "execution_count": 27
        }
      ],
      "source": [
        "clf('This is a course about Python Programming', multi_label=True, candidate_labels=['Computer Education', 'Physics Education', 'Computer Networks', 'Python Snake'])"
      ]
    },
    {
      "cell_type": "markdown",
      "metadata": {
        "id": "3fKlLve9Beji"
      },
      "source": [
        "Loading train portion of data for 20-class and 54-class z-shot"
      ]
    },
    {
      "cell_type": "code",
      "execution_count": 28,
      "metadata": {
        "id": "1etrPyVABeji"
      },
      "outputs": [],
      "source": [
        "data20 = pd.read_csv('data/prepared/train-zshot-20.tsv', delimiter='\\t')\n",
        "data54 = pd.read_csv('data/prepared/train-zshot-54.tsv', delimiter='\\t')\n",
        "labels20 = list(data20.columns[4:])\n",
        "labels54 = list(data54.columns[4:])\n",
        "\n",
        "with open('data/value-categories.json', 'r') as file:\n",
        "    js = json.load(file)\n",
        "    vals = {key:str.join(' or ', js[key].keys()) for key in js.keys()}\n",
        "\n",
        "inps = list(data20.apply(lambda x: f'{x.Conclusion} {x.Stance} {x.Premise}', axis=1))"
      ]
    },
    {
      "cell_type": "code",
      "execution_count": 29,
      "metadata": {
        "colab": {
          "base_uri": "https://localhost:8080/"
        },
        "id": "06RIziy8Bejj",
        "outputId": "c9a50c5f-e56e-41c9-9159-888b9687cd06"
      },
      "outputs": [
        {
          "output_type": "stream",
          "name": "stderr",
          "text": [
            "100%|██████████| 270/270 [3:10:52<00:00, 42.42s/it]\n"
          ]
        }
      ],
      "source": [
        "preds20 = []\n",
        "preds54 = []\n",
        "for batch in tqdm(batched(inps, 20)):\n",
        "    p20 = clf(batch, candidate_labels=labels20, multi_label=True)\n",
        "    p54 = clf(batch, candidate_labels=labels54, multi_label=True)\n",
        "\n",
        "    preds20.append(p20)\n",
        "    preds54.append(p54)\n"
      ]
    },
    {
      "cell_type": "code",
      "source": [
        "# Create a dictionary with the two lists\n",
        "data = {\"preds20\": preds20, \"preds54\": preds54}\n",
        "\n",
        "# Save the dictionary to a JSON file\n",
        "with open(\"data.json\", \"w\") as f:\n",
        "    json.dump(data, f)\n"
      ],
      "metadata": {
        "id": "wpCmWX840KYk"
      },
      "execution_count": 30,
      "outputs": []
    }
  ],
  "metadata": {
    "kernelspec": {
      "display_name": "Python 3",
      "language": "python",
      "name": "python3"
    },
    "language_info": {
      "codemirror_mode": {
        "name": "ipython",
        "version": 3
      },
      "file_extension": ".py",
      "mimetype": "text/x-python",
      "name": "python",
      "nbconvert_exporter": "python",
      "pygments_lexer": "ipython3",
      "version": "3.10.6"
    },
    "orig_nbformat": 4,
    "vscode": {
      "interpreter": {
        "hash": "916dbcbb3f70747c44a77c7bcd40155683ae19c65e1c03b4aa3499c5328201f1"
      }
    },
    "colab": {
      "provenance": []
    },
    "accelerator": "GPU",
    "gpuClass": "standard"
  },
  "nbformat": 4,
  "nbformat_minor": 0
}