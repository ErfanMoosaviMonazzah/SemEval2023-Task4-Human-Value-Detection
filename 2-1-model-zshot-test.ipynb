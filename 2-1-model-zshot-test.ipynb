{
  "cells": [
    {
      "cell_type": "code",
      "execution_count": 15,
      "metadata": {
        "id": "DBNjTH3SBeje"
      },
      "outputs": [],
      "source": [
        "import torch\n",
        "from transformers import pipeline, AutoTokenizer, AutoModel\n",
        "import pandas as pd\n",
        "import json\n",
        "from tqdm import tqdm\n",
        "import numpy as np"
      ]
    },
    {
      "cell_type": "markdown",
      "metadata": {
        "id": "M94XH_jpBejf"
      },
      "source": [
        "Helper functions"
      ]
    },
    {
      "cell_type": "code",
      "execution_count": 16,
      "metadata": {
        "id": "32j6aLdUBejg"
      },
      "outputs": [],
      "source": [
        "def batched(lst, batch_size):\n",
        "    \"\"\"\n",
        "    Convert a list of items to a list of batched items with the specified batch size.\n",
        "    \"\"\"\n",
        "    return [lst[i:i+batch_size] for i in range(0, len(lst), batch_size)]\n",
        "\n",
        "def sigmoid(X):\n",
        "    return 1 / (1 + np.exp(-X))\n",
        "\n",
        "def heaviside(X):\n",
        "    return np.heaviside(X - 0.5, 0)\n",
        "\n",
        "def f1(preds):\n",
        "    logits, y_true = preds\n",
        "    y_pred = heaviside(sigmoid(logits))\n",
        "    return {'f1':f1_score(y_true, y_pred, average='macro')}\n"
      ]
    },
    {
      "cell_type": "markdown",
      "metadata": {
        "id": "tyS5MGChBejg"
      },
      "source": [
        "Loading zshot model"
      ]
    },
    {
      "cell_type": "code",
      "execution_count": 3,
      "metadata": {
        "colab": {
          "base_uri": "https://localhost:8080/"
        },
        "id": "LJkWPB9FBejh",
        "outputId": "ab8efe65-b80b-4636-c4f8-f5404a5bc8b4"
      },
      "outputs": [
        {
          "name": "stdout",
          "output_type": "stream",
          "text": [
            "cuda:0\n"
          ]
        }
      ],
      "source": [
        "model = 'facebook/bart-large-mnli'\n",
        "task = 'zero-shot-classification'\n",
        "clf = pipeline(task, model, device=0)\n",
        "print(clf.device)"
      ]
    },
    {
      "cell_type": "markdown",
      "metadata": {
        "id": "0zmkL4rcBeji"
      },
      "source": [
        "Checking zshot model"
      ]
    },
    {
      "cell_type": "code",
      "execution_count": 4,
      "metadata": {
        "colab": {
          "base_uri": "https://localhost:8080/"
        },
        "id": "VsuuGFv4Beji",
        "outputId": "70eaa7d6-c947-4b92-e74b-edc8aefe5829"
      },
      "outputs": [
        {
          "data": {
            "text/plain": [
              "{'sequence': 'This is a course about Python Programming',\n",
              " 'labels': ['Computer Education',\n",
              "  'Python Snake',\n",
              "  'Computer Networks',\n",
              "  'Physics Education'],\n",
              " 'scores': [0.8667940497398376,\n",
              "  0.05108261480927467,\n",
              "  0.0002302610082551837,\n",
              "  7.492826989619061e-05]}"
            ]
          },
          "execution_count": 4,
          "metadata": {},
          "output_type": "execute_result"
        }
      ],
      "source": [
        "clf('This is a course about Python Programming', multi_label=True, candidate_labels=['Computer Education', 'Physics Education', 'Computer Networks', 'Python Snake'])"
      ]
    },
    {
      "cell_type": "markdown",
      "metadata": {
        "id": "3fKlLve9Beji"
      },
      "source": [
        "Loading train portion of data for 20-class and 54-class z-shot"
      ]
    },
    {
      "cell_type": "code",
      "execution_count": 6,
      "metadata": {},
      "outputs": [],
      "source": [
        "data_test = pd.read_csv('data/arguments-test.tsv', delimiter='\\t')\n",
        "data_nahj = pd.read_csv('data/arguments-test-nahjalbalagha.tsv', delimiter='\\t')\n",
        "data_nyt = pd.read_csv('data/arguments-test-nyt.tsv', delimiter='\\t')"
      ]
    },
    {
      "cell_type": "code",
      "execution_count": 7,
      "metadata": {
        "id": "1etrPyVABeji"
      },
      "outputs": [],
      "source": [
        "data20 = pd.read_csv('data/prepared/train-zshot-20.tsv', delimiter='\\t')\n",
        "labels20 = list(data20.columns[4:])\n",
        "data20 = pd.concat([data_test, data_nahj, data_nyt])\n",
        "# data54 = pd.read_csv('data/prepared/train-zshot-54.tsv', delimiter='\\t')\n",
        "# labels54 = list(data54.columns[4:])\n",
        "\n",
        "inps = list(data20.apply(lambda x: f'{x.Conclusion} {x.Stance} {x.Premise}', axis=1))"
      ]
    },
    {
      "cell_type": "code",
      "execution_count": 11,
      "metadata": {
        "colab": {
          "base_uri": "https://localhost:8080/"
        },
        "id": "06RIziy8Bejj",
        "outputId": "c9a50c5f-e56e-41c9-9159-888b9687cd06"
      },
      "outputs": [
        {
          "name": "stderr",
          "output_type": "stream",
          "text": [
            "  9%|▉         | 9/97 [01:46<17:48, 12.14s/it]/home/erfan/.local/lib/python3.10/site-packages/transformers/pipelines/base.py:1045: UserWarning: You seem to be using the pipelines sequentially on GPU. In order to maximize efficiency please use a dataset\n",
            "  warnings.warn(\n",
            "100%|██████████| 97/97 [22:45<00:00, 14.08s/it]\n"
          ]
        }
      ],
      "source": [
        "preds20 = []\n",
        "#preds54 = []\n",
        "for batch in tqdm(batched(inps, 20)):\n",
        "    p20 = clf(batch, candidate_labels=labels20, multi_label=True)\n",
        "    #p54 = clf(batch, candidate_labels=labels54, multi_label=True)\n",
        "\n",
        "    preds20.append(p20)\n",
        "    #preds54.append(p54)\n"
      ]
    },
    {
      "cell_type": "code",
      "execution_count": 22,
      "metadata": {},
      "outputs": [],
      "source": [
        "cols = ['Self-direction: thought','Self-direction: action','Stimulation','Hedonism','Achievement','Power: dominance','Power: resources','Face','Security: personal','Security: societal','Tradition','Conformity: rules','Conformity: interpersonal','Humility','Benevolence: caring','Benevolence: dependability','Universalism: concern','Universalism: nature','Universalism: tolerance','Universalism: objectivity']"
      ]
    },
    {
      "cell_type": "code",
      "execution_count": 29,
      "metadata": {},
      "outputs": [
        {
          "data": {
            "text/plain": [
              "1576"
            ]
          },
          "execution_count": 29,
          "metadata": {},
          "output_type": "execute_result"
        }
      ],
      "source": [
        "len(data_test)"
      ]
    },
    {
      "cell_type": "code",
      "execution_count": 32,
      "metadata": {},
      "outputs": [],
      "source": [
        "preds_test = []\n",
        "preds_nahj = []\n",
        "preds_nyt = []\n",
        "index = 0\n",
        "for pbatch in preds20:\n",
        "    for p in pbatch:\n",
        "        scores = [int(i) for i in list(heaviside(np.array(p['scores'])))]\n",
        "        \n",
        "        if len(preds_test)!=len(data_test):\n",
        "            preds_test.append([data_test.iloc[index, 0]] + scores)\n",
        "        elif len(preds_nahj)!=len(data_nahj):\n",
        "            i = index - len(data_test)\n",
        "            preds_nahj.append([data_nahj.iloc[i, 0]] + scores)\n",
        "        else:\n",
        "            i = index - len(data_test) - len(data_nahj)\n",
        "            preds_nyt.append([data_nyt.iloc[i, 0]] + scores)\n",
        "        index += 1"
      ]
    },
    {
      "cell_type": "code",
      "execution_count": 40,
      "metadata": {},
      "outputs": [],
      "source": [
        "pd.DataFrame(preds_test, columns=['Argument ID']+cols).to_csv(f'experiments/ex_zshot/zshot-test.tsv', sep='\\t', index=False)\n",
        "pd.DataFrame(preds_nahj, columns=['Argument ID']+cols).to_csv(f'experiments/ex_zshot/zshot-nahj.tsv', sep='\\t', index=False)\n",
        "pd.DataFrame(preds_nyt, columns=['Argument ID']+cols).to_csv(f'experiments/ex_zshot/zshot-nyt.tsv', sep='\\t', index=False)"
      ]
    },
    {
      "cell_type": "code",
      "execution_count": 30,
      "metadata": {
        "id": "wpCmWX840KYk"
      },
      "outputs": [],
      "source": [
        "# Create a dictionary with the two lists\n",
        "data = {\"preds20\": preds20, \"preds54\": preds54}\n",
        "\n",
        "# Save the dictionary to a JSON file\n",
        "with open(\"data.json\", \"w\") as f:\n",
        "    json.dump(data, f)\n"
      ]
    }
  ],
  "metadata": {
    "accelerator": "GPU",
    "colab": {
      "provenance": []
    },
    "gpuClass": "standard",
    "kernelspec": {
      "display_name": "Python 3",
      "language": "python",
      "name": "python3"
    },
    "language_info": {
      "codemirror_mode": {
        "name": "ipython",
        "version": 3
      },
      "file_extension": ".py",
      "mimetype": "text/x-python",
      "name": "python",
      "nbconvert_exporter": "python",
      "pygments_lexer": "ipython3",
      "version": "3.10.6"
    },
    "orig_nbformat": 4,
    "vscode": {
      "interpreter": {
        "hash": "916dbcbb3f70747c44a77c7bcd40155683ae19c65e1c03b4aa3499c5328201f1"
      }
    }
  },
  "nbformat": 4,
  "nbformat_minor": 0
}
