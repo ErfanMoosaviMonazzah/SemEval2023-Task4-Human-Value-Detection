{
 "cells": [
  {
   "cell_type": "code",
   "execution_count": 1,
   "metadata": {},
   "outputs": [],
   "source": [
    "import pandas as pd\n",
    "import numpy as np\n",
    "from sklearn.metrics import f1_score, classification_report"
   ]
  },
  {
   "cell_type": "code",
   "execution_count": 2,
   "metadata": {},
   "outputs": [],
   "source": [
    "def sigmoid(X):\n",
    "    return 1 / (1 + np.exp(-X))\n",
    "\n",
    "def heaviside(X):\n",
    "    return np.heaviside(X - 0.5, 0)"
   ]
  },
  {
   "cell_type": "code",
   "execution_count": 3,
   "metadata": {},
   "outputs": [],
   "source": [
    "preds_train_4 = np.genfromtxt('experiments/ex4/results/train_pred.csv', delimiter=',', skip_header=1)\n",
    "true_train_4 = np.genfromtxt('experiments/ex4/results/train_true.csv', delimiter=',', skip_header=1)\n",
    "preds_val_4 = np.genfromtxt('experiments/ex4/results/val_pred.csv', delimiter=',', skip_header=1)\n",
    "true_val_4 = np.genfromtxt('experiments/ex4/results/val_true.csv', delimiter=',', skip_header=1)\n",
    "preds_zhihu_4 = np.genfromtxt('experiments/ex4/results/zhihu_pred.csv', delimiter=',', skip_header=1)\n",
    "true_zhihu_4 = np.genfromtxt('experiments/ex4/results/zhihu_true.csv', delimiter=',', skip_header=1)"
   ]
  },
  {
   "cell_type": "code",
   "execution_count": 4,
   "metadata": {},
   "outputs": [],
   "source": [
    "preds_train_5 = np.genfromtxt('experiments/ex5/results/train_pred.csv', delimiter=',', skip_header=1)\n",
    "true_train_5 = np.genfromtxt('experiments/ex5/results/train_true.csv', delimiter=',', skip_header=1)\n",
    "preds_val_5 = np.genfromtxt('experiments/ex5/results/val_pred.csv', delimiter=',', skip_header=1)\n",
    "true_val_5 = np.genfromtxt('experiments/ex5/results/val_true.csv', delimiter=',', skip_header=1)\n",
    "preds_zhihu_5 = np.genfromtxt('experiments/ex5/results/zhihu_pred.csv', delimiter=',', skip_header=1)\n",
    "true_zhihu_5 = np.genfromtxt('experiments/ex5/results/zhihu_true.csv', delimiter=',', skip_header=1)"
   ]
  },
  {
   "cell_type": "code",
   "execution_count": 5,
   "metadata": {},
   "outputs": [],
   "source": [
    "preds_train = heaviside(sigmoid(np.concatenate((preds_train_4, preds_train_5))))\n",
    "true_train = np.concatenate((true_train_4, true_train_5))\n",
    "preds_val = heaviside(sigmoid(np.concatenate((preds_val_4, preds_val_5))))\n",
    "true_val = np.concatenate((true_val_4, true_val_5))\n",
    "preds_zhihu = heaviside(sigmoid(np.concatenate((preds_zhihu_4, preds_zhihu_5))))\n",
    "true_zhihu = np.concatenate((true_zhihu_4, true_zhihu_5))"
   ]
  },
  {
   "cell_type": "code",
   "execution_count": 6,
   "metadata": {},
   "outputs": [
    {
     "name": "stderr",
     "output_type": "stream",
     "text": [
      "/home/erfan/.local/lib/python3.10/site-packages/sklearn/metrics/_classification.py:1609: UndefinedMetricWarning: F-score is ill-defined and being set to 0.0 in labels with no true nor predicted samples. Use `zero_division` parameter to control this behavior.\n",
      "  _warn_prf(average, \"true nor predicted\", \"F-score is\", len(true_sum))\n"
     ]
    },
    {
     "data": {
      "text/plain": [
       "[0.696594147324147, 0.352605077160588, 0.2501736164117448]"
      ]
     },
     "execution_count": 6,
     "metadata": {},
     "output_type": "execute_result"
    }
   ],
   "source": [
    "train_f1 = f1_score(true_train, preds_train, average='macro')\n",
    "val_f1 = f1_score(true_val, preds_val, average='macro')\n",
    "zhihu_f1 = f1_score(true_zhihu, preds_zhihu, average='macro')\n",
    "\n",
    "[train_f1, val_f1, zhihu_f1]"
   ]
  },
  {
   "cell_type": "code",
   "execution_count": null,
   "metadata": {},
   "outputs": [],
   "source": []
  }
 ],
 "metadata": {
  "kernelspec": {
   "display_name": "Python 3",
   "language": "python",
   "name": "python3"
  },
  "language_info": {
   "codemirror_mode": {
    "name": "ipython",
    "version": 3
   },
   "file_extension": ".py",
   "mimetype": "text/x-python",
   "name": "python",
   "nbconvert_exporter": "python",
   "pygments_lexer": "ipython3",
   "version": "3.10.6"
  },
  "orig_nbformat": 4,
  "vscode": {
   "interpreter": {
    "hash": "916dbcbb3f70747c44a77c7bcd40155683ae19c65e1c03b4aa3499c5328201f1"
   }
  }
 },
 "nbformat": 4,
 "nbformat_minor": 2
}
