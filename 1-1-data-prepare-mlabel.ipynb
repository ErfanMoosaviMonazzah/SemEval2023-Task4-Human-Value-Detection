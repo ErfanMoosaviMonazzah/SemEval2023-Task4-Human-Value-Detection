{
 "cells": [
  {
   "cell_type": "code",
   "execution_count": 11,
   "metadata": {},
   "outputs": [],
   "source": [
    "import pandas as pd\n",
    "import os, json"
   ]
  },
  {
   "cell_type": "code",
   "execution_count": 12,
   "metadata": {},
   "outputs": [],
   "source": [
    "ex = 23\n",
    "ex_folder = f'experiments/ex{ex}'\n",
    "if not os.path.exists(ex_folder):\n",
    "    os.mkdir(ex_folder)"
   ]
  },
  {
   "cell_type": "code",
   "execution_count": 13,
   "metadata": {},
   "outputs": [],
   "source": [
    "data = pd.read_csv('data/text.tsv', index_col=0, delimiter='\\t')\n",
    "labels = pd.read_csv('data/labels.tsv', index_col=0, delimiter='\\t')\n",
    "with open('data/value-categories.json', 'r') as file:\n",
    "    vals = json.load(file) "
   ]
  },
  {
   "cell_type": "code",
   "execution_count": 14,
   "metadata": {},
   "outputs": [],
   "source": [
    "ls = []\n",
    "fakeid = 0\n",
    "for i, key in enumerate(labels.columns[:-1]):\n",
    "    l = [0]*20\n",
    "    l[i] = 1\n",
    "    \n",
    "    for j, key2 in enumerate(vals[key]):\n",
    "        for elem in vals[key][key2]:\n",
    "            ls.append([f'{key2} means {elem}', 'train', l.copy()])\n",
    "            fakeid += 1\n",
    "dfls = pd.DataFrame(ls, columns=['Text', 'Type', 'Labels'])"
   ]
  },
  {
   "cell_type": "code",
   "execution_count": 15,
   "metadata": {},
   "outputs": [],
   "source": [
    "train_val_df = data.merge(labels, right_index=True, left_index=True).apply(\n",
    "    lambda x: \n",
    "    pd.Series((\n",
    "        f'{x.Conclusion} {x.Stance} {x.Premise}', # ex0, ex3, ex4, ex5, ex6, ex8, ex9, ex10, ex11, ex12, ex13, ex14, ex15, ex16, ex17, ex22, ex23\n",
    "        #f'{x.Conclusion} {\"[A]\" if x.Stance == \"against\" else \"[F]\"} {x.Premise}', # ex1\n",
    "        #f'[C] {x.Conclusion} [/C] {\"[A]\" if x.Stance == \"against\" else \"[F]\"} [P] {x.Premise} [/P]', ex2\n",
    "        #f'{x.Premise} {\"therefore\" if \"favor\" in x.Stance else \"nevertheless\"} {x.Conclusion}', # ex7, ex21\n",
    "        \n",
    "        x.Type_x, # ex0, ex1, ex2, ex3, ex6\n",
    "        #x.Type_x if 'favor' in x.Stance else 'REM', # ex4,\n",
    "        #x.Type_x if 'against' in x.Stance else 'REM', # ex5,\n",
    "        \n",
    "        list(labels.loc[x.name].values[:-1])\n",
    "    )), \n",
    "    axis=1\n",
    ")\n",
    "train_val_df.columns = ['Text', 'Type', 'Labels']\n",
    "train_val_df = train_val_df.loc[train_val_df['Type']!='REM']\n",
    "special_tokens = []\n",
    "#special_tokens = ['[A]', '[F]']\n",
    "#special_tokens = ['[C]', '[/C]', '[A]', '[F]', '[P]', '[/P]']\n",
    "#train_val_df = pd.concat([train_val_df, dfls]) # ex8\n",
    "#train_val_df = pd.concat([train_val_df, dfls, dfls]) # ex9\n",
    "#train_val_df = pd.concat([train_val_df, dfls, dfls, dfls, dfls, dfls, dfls]).sample(frac=1) # ex10, ex12, ex14, ex16, ex22\n",
    "#train_val_df = pd.concat([train_val_df, dfls, dfls, dfls, dfls]).sample(frac=1) # ex17, ex18, ex19, ex20\n",
    "train_val_df.index.name = 'Argument ID'"
   ]
  },
  {
   "cell_type": "code",
   "execution_count": 16,
   "metadata": {},
   "outputs": [],
   "source": [
    "test_df = data.apply(\n",
    "    lambda x: \n",
    "    pd.Series((\n",
    "        f'{x.Conclusion} {x.Stance} {x.Premise}', # ex0, ex3, ex4, ex5, ex6, ex8, ex9, ex10, ex11, ex12, ex13, ex14, ex15, ex16, ex17, ex22, ex23\n",
    "        #f'{x.Conclusion} {\"[A]\" if x.Stance == \"against\" else \"[F]\"} {x.Premise}', # ex1\n",
    "        #f'[C] {x.Conclusion} [/C] {\"[A]\" if x.Stance == \"against\" else \"[F]\"} [P] {x.Premise} [/P]', ex2\n",
    "        #f'{x.Premise} {\"therefore\" if \"favor\" in x.Stance else \"nevertheless\"} {x.Conclusion}', # ex7, ex21\n",
    "        \n",
    "        x.Type, # ex0, ex1, ex2, ex3, ex6\n",
    "        #x.Type_x if 'favor' in x.Stance else 'REM', # ex4,\n",
    "        #x.Type_x if 'against' in x.Stance else 'REM', # ex5,\n",
    "    )), \n",
    "    axis=1\n",
    ")\n",
    "test_df.columns = ['Text', 'Type']\n",
    "test_df.index.name = 'Argument ID'"
   ]
  },
  {
   "cell_type": "code",
   "execution_count": 17,
   "metadata": {},
   "outputs": [],
   "source": [
    "train_val_df.loc[train_val_df.Type=='train'].drop('Type', axis=1).to_csv(f'{ex_folder}/train-mlabel.tsv', sep='\\t')\n",
    "\n",
    "train_val_df.loc[train_val_df.Type=='val'].drop('Type', axis=1).to_csv(f'{ex_folder}/val-mlabel.tsv', sep='\\t')\n",
    "train_val_df.loc[train_val_df.Type=='zhihu'].drop('Type', axis=1).to_csv(f'{ex_folder}/zhihu-mlabel.tsv', sep='\\t')\n",
    "\n",
    "test_df.loc[test_df.Type=='test'].drop('Type', axis=1).to_csv(f'{ex_folder}/test-mlabel.tsv', sep='\\t')\n",
    "test_df.loc[test_df.Type=='nahj'].drop('Type', axis=1).to_csv(f'{ex_folder}/nahj-mlabel.tsv', sep='\\t')\n",
    "test_df.loc[test_df.Type=='nyt'].drop('Type', axis=1).to_csv(f'{ex_folder}/nyt-mlabel.tsv', sep='\\t')\n",
    "\n",
    "pd.DataFrame(special_tokens).to_csv(f'{ex_folder}/custom-tokens-mlabel.csv')"
   ]
  },
  {
   "cell_type": "code",
   "execution_count": 18,
   "metadata": {},
   "outputs": [
    {
     "data": {
      "text/html": [
       "<div>\n",
       "<style scoped>\n",
       "    .dataframe tbody tr th:only-of-type {\n",
       "        vertical-align: middle;\n",
       "    }\n",
       "\n",
       "    .dataframe tbody tr th {\n",
       "        vertical-align: top;\n",
       "    }\n",
       "\n",
       "    .dataframe thead th {\n",
       "        text-align: right;\n",
       "    }\n",
       "</style>\n",
       "<table border=\"1\" class=\"dataframe\">\n",
       "  <thead>\n",
       "    <tr style=\"text-align: right;\">\n",
       "      <th></th>\n",
       "      <th>Text</th>\n",
       "      <th>Type</th>\n",
       "      <th>Labels</th>\n",
       "    </tr>\n",
       "    <tr>\n",
       "      <th>Argument ID</th>\n",
       "      <th></th>\n",
       "      <th></th>\n",
       "      <th></th>\n",
       "    </tr>\n",
       "  </thead>\n",
       "  <tbody>\n",
       "    <tr>\n",
       "      <th>A01002</th>\n",
       "      <td>We should ban human cloning in favor of we sho...</td>\n",
       "      <td>train</td>\n",
       "      <td>[0, 0, 0, 0, 0, 0, 0, 0, 0, 1, 0, 0, 0, 0, 0, ...</td>\n",
       "    </tr>\n",
       "    <tr>\n",
       "      <th>A01005</th>\n",
       "      <td>We should ban fast food in favor of fast food ...</td>\n",
       "      <td>train</td>\n",
       "      <td>[0, 0, 0, 0, 0, 0, 0, 0, 1, 0, 0, 0, 0, 0, 0, ...</td>\n",
       "    </tr>\n",
       "    <tr>\n",
       "      <th>A01006</th>\n",
       "      <td>We should end the use of economic sanctions ag...</td>\n",
       "      <td>train</td>\n",
       "      <td>[0, 0, 0, 0, 0, 1, 0, 0, 0, 1, 0, 0, 0, 0, 0, ...</td>\n",
       "    </tr>\n",
       "    <tr>\n",
       "      <th>A01007</th>\n",
       "      <td>We should abolish capital punishment against c...</td>\n",
       "      <td>train</td>\n",
       "      <td>[0, 0, 0, 0, 0, 0, 0, 0, 0, 1, 0, 1, 0, 0, 0, ...</td>\n",
       "    </tr>\n",
       "    <tr>\n",
       "      <th>A01008</th>\n",
       "      <td>We should ban factory farming against factory ...</td>\n",
       "      <td>train</td>\n",
       "      <td>[0, 0, 0, 0, 0, 0, 0, 0, 1, 0, 0, 0, 0, 0, 1, ...</td>\n",
       "    </tr>\n",
       "    <tr>\n",
       "      <th>...</th>\n",
       "      <td>...</td>\n",
       "      <td>...</td>\n",
       "      <td>...</td>\n",
       "    </tr>\n",
       "    <tr>\n",
       "      <th>C26096</th>\n",
       "      <td>Carbon emissions trading should be limited. in...</td>\n",
       "      <td>zhihu</td>\n",
       "      <td>[0, 0, 0, 0, 0, 0, 0, 0, 0, 0, 0, 1, 0, 0, 0, ...</td>\n",
       "    </tr>\n",
       "    <tr>\n",
       "      <th>C26097</th>\n",
       "      <td>Carbon emissions trading should be limited. in...</td>\n",
       "      <td>zhihu</td>\n",
       "      <td>[0, 0, 0, 0, 0, 0, 0, 0, 1, 0, 0, 0, 0, 0, 0, ...</td>\n",
       "    </tr>\n",
       "    <tr>\n",
       "      <th>C26098</th>\n",
       "      <td>Carbon emissions trading should be limited. ag...</td>\n",
       "      <td>zhihu</td>\n",
       "      <td>[0, 0, 0, 0, 1, 0, 1, 0, 0, 0, 0, 0, 0, 0, 0, ...</td>\n",
       "    </tr>\n",
       "    <tr>\n",
       "      <th>C26099</th>\n",
       "      <td>Carbon emissions trading should be limited. in...</td>\n",
       "      <td>zhihu</td>\n",
       "      <td>[0, 0, 0, 0, 0, 1, 1, 0, 0, 1, 0, 0, 0, 0, 0, ...</td>\n",
       "    </tr>\n",
       "    <tr>\n",
       "      <th>C26100</th>\n",
       "      <td>Carbon emissions trading should be limited. in...</td>\n",
       "      <td>zhihu</td>\n",
       "      <td>[0, 0, 0, 0, 0, 0, 0, 1, 0, 0, 0, 0, 0, 0, 0, ...</td>\n",
       "    </tr>\n",
       "  </tbody>\n",
       "</table>\n",
       "<p>7389 rows × 3 columns</p>\n",
       "</div>"
      ],
      "text/plain": [
       "                                                          Text   Type  \\\n",
       "Argument ID                                                             \n",
       "A01002       We should ban human cloning in favor of we sho...  train   \n",
       "A01005       We should ban fast food in favor of fast food ...  train   \n",
       "A01006       We should end the use of economic sanctions ag...  train   \n",
       "A01007       We should abolish capital punishment against c...  train   \n",
       "A01008       We should ban factory farming against factory ...  train   \n",
       "...                                                        ...    ...   \n",
       "C26096       Carbon emissions trading should be limited. in...  zhihu   \n",
       "C26097       Carbon emissions trading should be limited. in...  zhihu   \n",
       "C26098       Carbon emissions trading should be limited. ag...  zhihu   \n",
       "C26099       Carbon emissions trading should be limited. in...  zhihu   \n",
       "C26100       Carbon emissions trading should be limited. in...  zhihu   \n",
       "\n",
       "                                                        Labels  \n",
       "Argument ID                                                     \n",
       "A01002       [0, 0, 0, 0, 0, 0, 0, 0, 0, 1, 0, 0, 0, 0, 0, ...  \n",
       "A01005       [0, 0, 0, 0, 0, 0, 0, 0, 1, 0, 0, 0, 0, 0, 0, ...  \n",
       "A01006       [0, 0, 0, 0, 0, 1, 0, 0, 0, 1, 0, 0, 0, 0, 0, ...  \n",
       "A01007       [0, 0, 0, 0, 0, 0, 0, 0, 0, 1, 0, 1, 0, 0, 0, ...  \n",
       "A01008       [0, 0, 0, 0, 0, 0, 0, 0, 1, 0, 0, 0, 0, 0, 1, ...  \n",
       "...                                                        ...  \n",
       "C26096       [0, 0, 0, 0, 0, 0, 0, 0, 0, 0, 0, 1, 0, 0, 0, ...  \n",
       "C26097       [0, 0, 0, 0, 0, 0, 0, 0, 1, 0, 0, 0, 0, 0, 0, ...  \n",
       "C26098       [0, 0, 0, 0, 1, 0, 1, 0, 0, 0, 0, 0, 0, 0, 0, ...  \n",
       "C26099       [0, 0, 0, 0, 0, 1, 1, 0, 0, 1, 0, 0, 0, 0, 0, ...  \n",
       "C26100       [0, 0, 0, 0, 0, 0, 0, 1, 0, 0, 0, 0, 0, 0, 0, ...  \n",
       "\n",
       "[7389 rows x 3 columns]"
      ]
     },
     "execution_count": 18,
     "metadata": {},
     "output_type": "execute_result"
    }
   ],
   "source": [
    "train_val_df"
   ]
  },
  {
   "cell_type": "code",
   "execution_count": 19,
   "metadata": {},
   "outputs": [],
   "source": [
    "a = [len(row.tolist()[0]) for i, row in test_df.iterrows()]"
   ]
  },
  {
   "cell_type": "code",
   "execution_count": 20,
   "metadata": {},
   "outputs": [
    {
     "data": {
      "text/plain": [
       "880"
      ]
     },
     "execution_count": 20,
     "metadata": {},
     "output_type": "execute_result"
    }
   ],
   "source": [
    "max(a)"
   ]
  },
  {
   "cell_type": "code",
   "execution_count": null,
   "metadata": {},
   "outputs": [],
   "source": []
  }
 ],
 "metadata": {
  "kernelspec": {
   "display_name": "Python 3",
   "language": "python",
   "name": "python3"
  },
  "language_info": {
   "codemirror_mode": {
    "name": "ipython",
    "version": 3
   },
   "file_extension": ".py",
   "mimetype": "text/x-python",
   "name": "python",
   "nbconvert_exporter": "python",
   "pygments_lexer": "ipython3",
   "version": "3.10.6"
  },
  "orig_nbformat": 4,
  "vscode": {
   "interpreter": {
    "hash": "916dbcbb3f70747c44a77c7bcd40155683ae19c65e1c03b4aa3499c5328201f1"
   }
  }
 },
 "nbformat": 4,
 "nbformat_minor": 2
}
