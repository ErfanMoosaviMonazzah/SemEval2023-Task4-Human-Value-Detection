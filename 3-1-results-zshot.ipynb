{
 "cells": [
  {
   "cell_type": "code",
   "execution_count": 1,
   "metadata": {},
   "outputs": [],
   "source": [
    "import json"
   ]
  },
  {
   "cell_type": "code",
   "execution_count": 2,
   "metadata": {},
   "outputs": [],
   "source": [
    "with open('data.json', 'r') as file:\n",
    "    res = json.load(file)"
   ]
  },
  {
   "cell_type": "code",
   "execution_count": 14,
   "metadata": {},
   "outputs": [
    {
     "data": {
      "text/plain": [
       "{'sequence': 'We should ban fast food in favor of fast food should be banned because it is really bad for your health and is costly.',\n",
       " 'labels': ['Self-direction: action',\n",
       "  'Self-direction: thought',\n",
       "  'Conformity: rules',\n",
       "  'Benevolence: caring',\n",
       "  'Power: resources',\n",
       "  'Universalism: concern',\n",
       "  'Conformity: interpersonal',\n",
       "  'Power: dominance',\n",
       "  'Benevolence: dependability',\n",
       "  'Hedonism',\n",
       "  'Face',\n",
       "  'Achievement',\n",
       "  'Security: societal',\n",
       "  'Stimulation',\n",
       "  'Tradition',\n",
       "  'Security: personal',\n",
       "  'Universalism: objectivity',\n",
       "  'Humility',\n",
       "  'Universalism: nature',\n",
       "  'Universalism: tolerance'],\n",
       " 'scores': [0.9197090268135071,\n",
       "  0.7171064019203186,\n",
       "  0.6660647392272949,\n",
       "  0.5729449391365051,\n",
       "  0.45621079206466675,\n",
       "  0.4370122253894806,\n",
       "  0.4362833499908447,\n",
       "  0.38991591334342957,\n",
       "  0.3040929436683655,\n",
       "  0.2313688099384308,\n",
       "  0.2124597579240799,\n",
       "  0.20329545438289642,\n",
       "  0.10187998414039612,\n",
       "  0.05939289927482605,\n",
       "  0.05867911875247955,\n",
       "  0.054383378475904465,\n",
       "  0.048154208809137344,\n",
       "  0.01496382337063551,\n",
       "  0.011424807831645012,\n",
       "  0.0030800229869782925]}"
      ]
     },
     "execution_count": 14,
     "metadata": {},
     "output_type": "execute_result"
    }
   ],
   "source": [
    "res['preds20'][0][1]"
   ]
  },
  {
   "cell_type": "code",
   "execution_count": null,
   "metadata": {},
   "outputs": [],
   "source": []
  }
 ],
 "metadata": {
  "kernelspec": {
   "display_name": "Python 3",
   "language": "python",
   "name": "python3"
  },
  "language_info": {
   "codemirror_mode": {
    "name": "ipython",
    "version": 3
   },
   "file_extension": ".py",
   "mimetype": "text/x-python",
   "name": "python",
   "nbconvert_exporter": "python",
   "pygments_lexer": "ipython3",
   "version": "3.10.6"
  },
  "orig_nbformat": 4,
  "vscode": {
   "interpreter": {
    "hash": "916dbcbb3f70747c44a77c7bcd40155683ae19c65e1c03b4aa3499c5328201f1"
   }
  }
 },
 "nbformat": 4,
 "nbformat_minor": 2
}
