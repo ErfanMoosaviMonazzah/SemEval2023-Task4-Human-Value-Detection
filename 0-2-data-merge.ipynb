{
 "cells": [
  {
   "cell_type": "code",
   "execution_count": 1,
   "metadata": {},
   "outputs": [],
   "source": [
    "import pandas as pd"
   ]
  },
  {
   "attachments": {},
   "cell_type": "markdown",
   "metadata": {},
   "source": [
    "Merge text"
   ]
  },
  {
   "cell_type": "code",
   "execution_count": 2,
   "metadata": {},
   "outputs": [],
   "source": [
    "path_train = 'data/arguments-training.tsv'\n",
    "\n",
    "path_val = 'data/arguments-validation.tsv'\n",
    "path_val_zhihu = 'data/arguments-validation-zhihu.tsv'\n",
    "\n",
    "path_test = 'data/arguments-test.tsv'\n",
    "path_test_nahj = 'data/arguments-test-nahjalbalagha.tsv'\n",
    "path_test_nyt = 'data/arguments-test-nyt.tsv'"
   ]
  },
  {
   "cell_type": "code",
   "execution_count": 3,
   "metadata": {},
   "outputs": [],
   "source": [
    "dftrain = pd.read_csv(path_train, index_col=0, delimiter='\\t')\n",
    "\n",
    "dfval = pd.read_csv(path_val, index_col=0, delimiter='\\t')\n",
    "dfvalzhihu = pd.read_csv(path_val_zhihu, index_col=0, delimiter='\\t')\n",
    "\n",
    "dftest = pd.read_csv(path_test, index_col=0, delimiter='\\t')\n",
    "dftestnahj = pd.read_csv(path_test_nahj, index_col=0, delimiter='\\t')\n",
    "dftestnyt = pd.read_csv(path_test_nyt, index_col=0, delimiter='\\t')"
   ]
  },
  {
   "cell_type": "code",
   "execution_count": 4,
   "metadata": {},
   "outputs": [],
   "source": [
    "dftrain['Type'] = 'train'\n",
    "\n",
    "dfval['Type'] = 'val'\n",
    "dfvalzhihu['Type'] = 'zhihu'\n",
    "\n",
    "dftest['Type'] = 'test'\n",
    "dftestnahj['Type'] = 'nahj'\n",
    "dftestnyt['Type'] = 'nyt'"
   ]
  },
  {
   "cell_type": "code",
   "execution_count": 5,
   "metadata": {},
   "outputs": [],
   "source": [
    "df = pd.concat([dftrain, dfval, dfvalzhihu, dftest, dftestnahj, dftestnyt])"
   ]
  },
  {
   "cell_type": "code",
   "execution_count": 6,
   "metadata": {},
   "outputs": [],
   "source": [
    "df.to_csv('data/text.tsv', sep='\\t')"
   ]
  },
  {
   "attachments": {},
   "cell_type": "markdown",
   "metadata": {},
   "source": [
    "Merge labels 20"
   ]
  },
  {
   "cell_type": "code",
   "execution_count": 7,
   "metadata": {},
   "outputs": [],
   "source": [
    "path_train = 'data/labels-training.tsv'\n",
    "\n",
    "path_val = 'data/labels-validation.tsv'\n",
    "path_val_zhihu = 'data/labels-validation-zhihu.tsv'"
   ]
  },
  {
   "cell_type": "code",
   "execution_count": 8,
   "metadata": {},
   "outputs": [],
   "source": [
    "dftrain = pd.read_csv(path_train, index_col=0, delimiter='\\t')\n",
    "\n",
    "dfval = pd.read_csv(path_val, index_col=0, delimiter='\\t')\n",
    "dfvalzhihu = pd.read_csv(path_val_zhihu, index_col=0, delimiter='\\t')"
   ]
  },
  {
   "cell_type": "code",
   "execution_count": 9,
   "metadata": {},
   "outputs": [],
   "source": [
    "dftrain['Type'] = 'train'\n",
    "\n",
    "dfval['Type'] = 'val'\n",
    "dfvalzhihu['Type'] = 'zhihu'"
   ]
  },
  {
   "cell_type": "code",
   "execution_count": 10,
   "metadata": {},
   "outputs": [],
   "source": [
    "df = pd.concat([dftrain, dfval, dfvalzhihu])"
   ]
  },
  {
   "cell_type": "code",
   "execution_count": 11,
   "metadata": {},
   "outputs": [],
   "source": [
    "df.to_csv('data/labels.tsv', sep='\\t')"
   ]
  },
  {
   "attachments": {},
   "cell_type": "markdown",
   "metadata": {},
   "source": [
    "Merge labels 54"
   ]
  },
  {
   "cell_type": "code",
   "execution_count": 2,
   "metadata": {},
   "outputs": [],
   "source": [
    "path_train = 'data/level1-labels-training.tsv'\n",
    "\n",
    "path_val = 'data/level1-labels-validation.tsv'\n",
    "path_val_zhihu = 'data/level1-labels-validation-zhihu.tsv'"
   ]
  },
  {
   "cell_type": "code",
   "execution_count": 3,
   "metadata": {},
   "outputs": [],
   "source": [
    "dftrain = pd.read_csv(path_train, index_col=0, delimiter='\\t')\n",
    "\n",
    "dfval = pd.read_csv(path_val, index_col=0, delimiter='\\t')\n",
    "dfvalzhihu = pd.read_csv(path_val_zhihu, index_col=0, delimiter='\\t')"
   ]
  },
  {
   "cell_type": "code",
   "execution_count": 4,
   "metadata": {},
   "outputs": [],
   "source": [
    "dftrain['Type'] = 'train'\n",
    "\n",
    "dfval['Type'] = 'val'\n",
    "dfvalzhihu['Type'] = 'zhihu'"
   ]
  },
  {
   "cell_type": "code",
   "execution_count": 5,
   "metadata": {},
   "outputs": [],
   "source": [
    "df = pd.concat([dftrain, dfval, dfvalzhihu])"
   ]
  },
  {
   "cell_type": "code",
   "execution_count": 7,
   "metadata": {},
   "outputs": [],
   "source": [
    "df.to_csv('data/level1-labels.tsv', sep='\\t')"
   ]
  },
  {
   "cell_type": "code",
   "execution_count": null,
   "metadata": {},
   "outputs": [],
   "source": []
  }
 ],
 "metadata": {
  "kernelspec": {
   "display_name": "Python 3",
   "language": "python",
   "name": "python3"
  },
  "language_info": {
   "codemirror_mode": {
    "name": "ipython",
    "version": 3
   },
   "file_extension": ".py",
   "mimetype": "text/x-python",
   "name": "python",
   "nbconvert_exporter": "python",
   "pygments_lexer": "ipython3",
   "version": "3.10.6"
  },
  "orig_nbformat": 4,
  "vscode": {
   "interpreter": {
    "hash": "916dbcbb3f70747c44a77c7bcd40155683ae19c65e1c03b4aa3499c5328201f1"
   }
  }
 },
 "nbformat": 4,
 "nbformat_minor": 2
}
